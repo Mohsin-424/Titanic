{
 "cells": [
  {
   "cell_type": "code",
   "execution_count": 1,
   "metadata": {},
   "outputs": [
    {
     "data": {
      "text/plain": [
       "'d:\\\\Machine_Learning\\\\Titanic_Pipeline_Project\\\\research'"
      ]
     },
     "execution_count": 1,
     "metadata": {},
     "output_type": "execute_result"
    }
   ],
   "source": [
    "import os\n",
    "%pwd"
   ]
  },
  {
   "cell_type": "code",
   "execution_count": 2,
   "metadata": {},
   "outputs": [
    {
     "data": {
      "text/plain": [
       "'d:\\\\Machine_Learning\\\\Titanic_Pipeline_Project'"
      ]
     },
     "execution_count": 2,
     "metadata": {},
     "output_type": "execute_result"
    }
   ],
   "source": [
    "os.chdir(\"../\")\n",
    "%pwd"
   ]
  },
  {
   "cell_type": "code",
   "execution_count": 3,
   "metadata": {},
   "outputs": [],
   "source": [
    "from dataclasses import dataclass\n",
    "from pathlib import Path\n",
    "\n",
    "@dataclass\n",
    "class ModelEvaluationConfig:\n",
    "    root_dir:Path\n",
    "    preprocessor_path:Path\n",
    "    data_path:Path\n",
    "    model_path:Path\n",
    "    metrics_file_name: Path"
   ]
  },
  {
   "cell_type": "code",
   "execution_count": 4,
   "metadata": {},
   "outputs": [],
   "source": [
    "from titanic.constants import *\n",
    "from titanic.utils.common import read_yaml, create_directories"
   ]
  },
  {
   "cell_type": "code",
   "execution_count": 5,
   "metadata": {},
   "outputs": [],
   "source": [
    "class ConfigurationManager:\n",
    "    def __init__(\n",
    "            self,\n",
    "            config_file_path = CONFIG_FILE_PATH,\n",
    "            params_file_path = PARAMS_FILE_PATH\n",
    "            ):\n",
    "        self.config = read_yaml(config_file_path)\n",
    "        self.params = read_yaml(params_file_path)\n",
    "\n",
    "        create_directories([self.config.artifacts_root])\n",
    "    \n",
    "    def get_model_evaluation_config(self) -> ModelEvaluationConfig:\n",
    "        config = self.config.model_evaluation\n",
    "\n",
    "        create_directories([config.root_dir])\n",
    "\n",
    "        model_evaluation_config = ModelEvaluationConfig(\n",
    "            root_dir= config.root_dir,\n",
    "            preprocessor_path= config.preprocessor_path,\n",
    "            data_path= config.data_path,\n",
    "            model_path= config.model_path,\n",
    "            metrics_file_name= config.metrics_file_name\n",
    "        )\n",
    "\n",
    "        return model_evaluation_config\n"
   ]
  },
  {
   "cell_type": "code",
   "execution_count": 24,
   "metadata": {},
   "outputs": [],
   "source": [
    "from sklearn.preprocessing import StandardScaler\n",
    "from titanic.utils.common import load_object\n",
    "from sklearn.metrics import accuracy_score, confusion_matrix\n",
    "from titanic.logging import logger\n",
    "import pandas as pd\n",
    "import yaml\n",
    "\n",
    "class ModelEvaluation:\n",
    "    def __init__(self, config: ModelEvaluationConfig):\n",
    "        self.config = config\n",
    "\n",
    "\n",
    "    def fetch_dataset(self):\n",
    "        df = pd.read_csv(self.config.data_path)\n",
    "        logger.info(\"Data loaded successfully for model evaluation\")\n",
    "        return df\n",
    "    \n",
    "\n",
    "    def fetch_preprocessor(self):\n",
    "        preprocessor = load_object(self.config.preprocessor_path)\n",
    "        logger.info(\"Preprocessor loaded successfully for model evaluation\")\n",
    "        return preprocessor\n",
    "    \n",
    "    \n",
    "    def fetch_model(self):\n",
    "        model = load_object(self.config.model_path)\n",
    "        logger.info(\"Model loaded successfully for model evaluation\")\n",
    "        return model\n",
    "    \n",
    "\n",
    "    def initiate_model_evaluation(self):\n",
    "        preprocessor = self.fetch_preprocessor()\n",
    "        model = self.fetch_model()\n",
    "        data = self.fetch_dataset()\n",
    "\n",
    "        x = data.drop(columns=['Survived'], axis=1)\n",
    "        y = data['Survived']\n",
    "\n",
    "        # Preprocessing the dataset\n",
    "        x = preprocessor.transform(x)\n",
    "        logger.info(\"Preprocessing done successfully for model evaluation\")\n",
    "\n",
    "        # Model Prediction\n",
    "        y_pred = model.predict(x)\n",
    "        logger.info(\"Model evaluation done successfully for model evaluation\")\n",
    "\n",
    "        # Evaluation of model\n",
    "        accuracy = accuracy_score(y, y_pred)\n",
    "        logger.info(\"Accuracy of model evaluation: {}\".format(accuracy))\n",
    "\n",
    "        accuracy = accuracy_score(y_true=y, y_pred=y_pred)\n",
    "        cm = confusion_matrix(y_true=y, y_pred=y_pred)\n",
    "\n",
    "        content = dict()\n",
    "        content['accuracy'] = str(accuracy)\n",
    "        content['confusion_matrix'] = str(cm)\n",
    "\n",
    "        return content\n",
    "\n",
    "\n",
    "    \n",
    "    def save_metrics(self):\n",
    "        content = self.initiate_model_evaluation()\n",
    "        logger.info(f\"Metrics saved to {self.config.metrics_file_name}\")\n",
    "\n",
    "        with open(self.config.metrics_file_name, 'w') as f:\n",
    "            yaml.dump(content, f)\n",
    "\n",
    "\n",
    "    # def evaluate(self):\n",
    "\n",
    "    #     x,y_true = self.scaled_data()\n",
    "\n",
    "    #     model = load_object(Path(os.path.join(\"artifacts\",\"model_trainer\",\"model.pkl\")))\n",
    "    #     logger.info(\"Model Loaded successfully for model evaluation\")\n",
    "\n",
    "    #     y_pred = model.predict(x)\n",
    "\n",
    "    #     accuracy = accuracy_score(y_true=y_true, y_pred=y_pred)\n",
    "    #     cm = confusion_matrix(y_true=y_true, y_pred=y_pred)\n",
    "\n",
    "    #     logger.info(f\"Accuracy of the Model: {accuracy}\")\n",
    "    #     logger.info(f\"Confusion Matrix of the Model: {cm}\")\n",
    "\n",
    "    #     content = dict()\n",
    "    #     content['accuracy'] = str(accuracy)\n",
    "    #     content['confusion_matrix'] = str(cm)\n",
    "\n",
    "    #     return content\n",
    "        \n",
    "\n",
    "    # def scaled_data(self):\n",
    "    #     df = self.load_dataset()\n",
    "\n",
    "    #     x = df.drop(columns='Survived', axis=1)\n",
    "    #     y = df['Survived']\n",
    "\n",
    "    #     sd = StandardScaler()\n",
    "    #     x = sd.fit_transform(x)\n",
    "\n",
    "\n",
    "    #     logger.info(\"Data has been scaled successfully\")\n",
    "    #     return x,y"
   ]
  },
  {
   "cell_type": "code",
   "execution_count": 25,
   "metadata": {},
   "outputs": [
    {
     "name": "stdout",
     "output_type": "stream",
     "text": [
      "[2024-01-09 21:00:06,837: INFO: common: yaml file config\\config.yaml loaded successfully]\n",
      "[2024-01-09 21:00:06,844: INFO: common: yaml file params.yaml loaded successfully]\n",
      "[2024-01-09 21:00:06,845: INFO: common: created directory at: artifacts]\n",
      "[2024-01-09 21:00:06,846: INFO: common: created directory at: artifacts/model_evaluation]\n",
      "[2024-01-09 21:00:06,849: INFO: 3033905641: Preprocessor loaded successfully for model evaluation]\n",
      "[2024-01-09 21:00:06,856: INFO: 3033905641: Model loaded successfully for model evaluation]\n",
      "[2024-01-09 21:00:06,861: INFO: 3033905641: Data loaded successfully for model evaluation]\n",
      "[2024-01-09 21:00:06,869: INFO: 3033905641: Preprocessing done successfully for model evaluation]\n",
      "[2024-01-09 21:00:06,901: INFO: 3033905641: Model evaluation done successfully for model evaluation]\n",
      "[2024-01-09 21:00:06,901: INFO: 3033905641: Accuracy of model evaluation: 0.7890011223344556]\n",
      "[2024-01-09 21:00:06,909: INFO: 3033905641: Metrics saved to metrics.yaml]\n"
     ]
    }
   ],
   "source": [
    "try:\n",
    "    config = ConfigurationManager()\n",
    "    model_evaluation_config = config.get_model_evaluation_config()\n",
    "    model_evaluation = ModelEvaluation(model_evaluation_config)\n",
    "    model_evaluation.save_metrics()\n",
    "except Exception as e:\n",
    "    raise e "
   ]
  },
  {
   "cell_type": "code",
   "execution_count": null,
   "metadata": {},
   "outputs": [
    {
     "data": {
      "text/plain": [
       "'[[1, 2, 3], [4, 5, 6]]'"
      ]
     },
     "execution_count": 8,
     "metadata": {},
     "output_type": "execute_result"
    }
   ],
   "source": [
    "import numpy as np \n",
    "\n",
    "a = np.array([[1,2,3],[4,5, 6]])\n",
    "str(a.tolist())"
   ]
  },
  {
   "cell_type": "code",
   "execution_count": null,
   "metadata": {},
   "outputs": [],
   "source": [
    "import yaml\n",
    "\n",
    "config = {'confusionmatrix': '[[1,2,3,4],[5,6,7,8]]', 'accuracy': 0.33452}\n",
    "\n",
    "with open(PARAMS_FILE_PATH, 'w') as f:\n",
    "    yaml.dump(config, f)\n"
   ]
  },
  {
   "cell_type": "code",
   "execution_count": null,
   "metadata": {},
   "outputs": [
    {
     "data": {
      "text/plain": [
       "'g'"
      ]
     },
     "execution_count": 10,
     "metadata": {},
     "output_type": "execute_result"
    }
   ],
   "source": [
    "a = {\n",
    "    1:('a','b'),\n",
    "    2:('c','d'),\n",
    "    3:('e','f'),\n",
    "    4:('g','h'),\n",
    "}\n",
    "\n",
    "bm = max(list(a.values()))\n",
    "a[max(a)][0]\n",
    "# bm"
   ]
  },
  {
   "cell_type": "code",
   "execution_count": null,
   "metadata": {},
   "outputs": [],
   "source": []
  }
 ],
 "metadata": {
  "kernelspec": {
   "display_name": "titanic",
   "language": "python",
   "name": "python3"
  },
  "language_info": {
   "codemirror_mode": {
    "name": "ipython",
    "version": 3
   },
   "file_extension": ".py",
   "mimetype": "text/x-python",
   "name": "python",
   "nbconvert_exporter": "python",
   "pygments_lexer": "ipython3",
   "version": "3.9.0"
  }
 },
 "nbformat": 4,
 "nbformat_minor": 2
}
