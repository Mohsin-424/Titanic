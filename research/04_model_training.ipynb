{
 "cells": [
  {
   "cell_type": "code",
   "execution_count": 1,
   "metadata": {},
   "outputs": [
    {
     "data": {
      "text/plain": [
       "'d:\\\\Machine_Learning\\\\Titanic_Pipeline_Project\\\\research'"
      ]
     },
     "execution_count": 1,
     "metadata": {},
     "output_type": "execute_result"
    }
   ],
   "source": [
    "import os\n",
    "%pwd"
   ]
  },
  {
   "cell_type": "code",
   "execution_count": 2,
   "metadata": {},
   "outputs": [
    {
     "data": {
      "text/plain": [
       "'d:\\\\Machine_Learning\\\\Titanic_Pipeline_Project'"
      ]
     },
     "execution_count": 2,
     "metadata": {},
     "output_type": "execute_result"
    }
   ],
   "source": [
    "os.chdir(\"../\")\n",
    "%pwd"
   ]
  },
  {
   "cell_type": "code",
   "execution_count": 3,
   "metadata": {},
   "outputs": [],
   "source": [
    "from dataclasses import dataclass\n",
    "from pathlib import Path\n",
    "\n",
    "@dataclass(frozen=True)\n",
    "class ModelTrainerConfig:\n",
    "    root_dir:Path\n",
    "    data_path:Path"
   ]
  },
  {
   "cell_type": "code",
   "execution_count": 4,
   "metadata": {},
   "outputs": [],
   "source": [
    "from titanic.constants import *\n",
    "from titanic.utils.common import read_yaml, create_directories"
   ]
  },
  {
   "cell_type": "code",
   "execution_count": 5,
   "metadata": {},
   "outputs": [],
   "source": [
    "class ConfigurationManager:\n",
    "    def __init__(\n",
    "            self,\n",
    "            config_file_path = CONFIG_FILE_PATH,\n",
    "            params_file_path = PARAMS_FILE_PATH\n",
    "            ):\n",
    "        self.config = read_yaml(config_file_path)\n",
    "        self.params = read_yaml(params_file_path)\n",
    "\n",
    "        create_directories([self.config.artifacts_root])\n",
    "    \n",
    "    def get_model_trainer_config(self) -> ModelTrainerConfig:\n",
    "        config = self.config.model_trainer \n",
    "\n",
    "        create_directories([config.root_dir])\n",
    "\n",
    "        model_trainer_config = ModelTrainerConfig(\n",
    "            root_dir= config.root_dir,\n",
    "            data_path= config.data_path\n",
    "        )\n",
    "\n",
    "        return model_trainer_config\n"
   ]
  },
  {
   "cell_type": "code",
   "execution_count": 66,
   "metadata": {},
   "outputs": [],
   "source": [
    "from sklearn.metrics import accuracy_score\n",
    "from titanic.logging import logger\n",
    "import pandas as pd\n",
    "\n",
    "# from sklearn.preprocessing import train_test_split\n",
    "from sklearn.tree import DecisionTreeClassifier\n",
    "from catboost import CatBoostClassifier\n",
    "from sklearn.ensemble import (\n",
    "    AdaBoostClassifier,\n",
    "    GradientBoostingClassifier,\n",
    "    RandomForestClassifier,\n",
    ")\n",
    "# from xgboost import XGBClassifier\n",
    "from sklearn.neighbors import KNeighborsClassifier\n",
    "\n",
    "from sklearn.preprocessing import StandardScaler\n",
    "# from sklearn.tree import train_test_split\n",
    "\n",
    "from sklearn.model_selection import train_test_split\n",
    "\n",
    "from titanic.utils.common import evaluate_models, save_object\n",
    "\n",
    "class ModelTrainer:\n",
    "    def __init__(self, config:ModelTrainerConfig):\n",
    "        self.config = config\n",
    "\n",
    "    def fetch_transformed_data(self):\n",
    "        df = pd.read_csv(self.config.data_path)\n",
    "        logger.info(\"Data has been fetched successfully\")\n",
    "        return df\n",
    "    \n",
    "    def scaling_data(self):\n",
    "        df = self.fetch_transformed_data()\n",
    "\n",
    "        x = df.drop(columns='Survived', axis=1)\n",
    "        y = df['Survived']\n",
    "\n",
    "        sd = StandardScaler()\n",
    "        x = sd.fit_transform(x)\n",
    "\n",
    "\n",
    "        logger.info(\"Data has been scaled successfully\")\n",
    "        return x,y\n",
    "\n",
    "    def initiate_model_training(self):\n",
    "        x, y = self.scaling_data()\n",
    "\n",
    "        models = {\n",
    "                \"Random Forest\": RandomForestClassifier(),\n",
    "                \"Decision Tree\": DecisionTreeClassifier(),\n",
    "                \"Gradient Boosting\": GradientBoostingClassifier(),\n",
    "                # \"K-Neighbors Regressor\": KNeighborsClassifier(),\n",
    "                \"CatBoosting Regressor\": CatBoostClassifier(verbose=False),\n",
    "                \"AdaBoost Regressor\": AdaBoostClassifier()\n",
    "                # \"XGBRegressor\": XGBClassifier(),\n",
    "                # \"Linear Regression\": LinearRegression(),\n",
    "            }\n",
    "        \n",
    "        # For Hyper Parameter tuning \n",
    "        params={\n",
    "                \"Decision Tree\": {\n",
    "                    'criterion':['log_loss', 'entropy', 'gini'],\n",
    "                    'splitter':['best','random'],\n",
    "                    'max_features':['sqrt','log2'],\n",
    "                },\n",
    "                \"Random Forest\":{\n",
    "                    'criterion':['log_loss', 'entropy', 'gini'],\n",
    "                 \n",
    "                    'max_features':['sqrt','log2',None],\n",
    "                    'n_estimators': [8,16,32,64,128,256]\n",
    "                },\n",
    "                \"Gradient Boosting\":{\n",
    "                    # 'loss':['squared_error', 'huber', 'absolute_error', 'quantile'],\n",
    "                    'learning_rate':[.1,.01,.05,.001],\n",
    "                    'subsample':[0.6,0.7,0.75,0.8,0.85,0.9],\n",
    "                    # 'criterion':['squared_error', 'friedman_mse'],\n",
    "                    # 'max_features':['auto','sqrt','log2'],\n",
    "                    'n_estimators': [8,16,32,64,128,256]\n",
    "                },\n",
    "                # \"Linear Regression\":{},\n",
    "                # \"XGBRegressor\":{\n",
    "                #     'learning_rate':[.1,.01,.05,.001],\n",
    "                #     'n_estimators': [8,16,32,64,128,256]\n",
    "                # },\n",
    "                 \"CatBoosting Regressor\":{\n",
    "                    'depth': [6,8,10],\n",
    "                    'learning_rate': [0.01, 0.05, 0.1],\n",
    "                    'iterations': [30, 50, 100]\n",
    "                },\n",
    "                \"AdaBoost Regressor\":{\n",
    "                    'learning_rate':[.1,.01,0.5,.001],\n",
    "                    # 'loss':['linear','square','exponential'],\n",
    "                    'n_estimators': [8,16,32,64,128,256]\n",
    "                }\n",
    "                \n",
    "            }\n",
    "        \n",
    "        x_train,x_test, y_train,  y_test = train_test_split(x,y, test_size=0.2, random_state=42)\n",
    "\n",
    "        # To get best model score from dict\n",
    "        model_report:dict = evaluate_models(x_train = x_train, y_train = y_train,x_test=x_test, y_test=y_test, models=models, param = params)\n",
    "        best_model_score = max(sorted(model_report.values()))\n",
    "        print(f\"---------------------------------------------{best_model_score}--------------------------------\")\n",
    "        print(model_report)\n",
    "\n",
    "        accuracy_dict = {}\n",
    "        for model_name, model in models.items():\n",
    "            model.fit(x, y)\n",
    "            logger.info(f\"Model {model_name} has been trained successfully\")\n",
    "            y_pred = model.predict(x_test)\n",
    "            accuracy = accuracy_score(y_test, y_pred)\n",
    "            accuracy_dict[accuracy] = (model, model_name, accuracy)\n",
    "        \n",
    "        \n",
    "        # best_model = list(models.values())[accuracy_list.index(max(accuracy_list))]\n",
    "        # best_model = max(list(accuracy_dict.values()))\n",
    "        best_model = accuracy_dict[max(accuracy_dict)][0]\n",
    "        \n",
    "        model_path= Path(os.path.join(self.config.root_dir,\"model.pkl\"))\n",
    "\n",
    "        save_object(path = model_path,obj =best_model)\n",
    "        logger.info(f\"Model Name: {accuracy_dict[max(accuracy_dict)][1]} has been saved successfully with accuracy: {accuracy_dict[max(accuracy_dict)][2]}\")\n",
    "\n",
    "        logger.info(\"Model Training Complete\")"
   ]
  },
  {
   "cell_type": "code",
   "execution_count": 67,
   "metadata": {},
   "outputs": [
    {
     "name": "stdout",
     "output_type": "stream",
     "text": [
      "[2024-01-03 19:28:06,204: INFO: common: yaml file config\\config.yaml loaded successfully]\n",
      "[2024-01-03 19:28:06,205: INFO: common: yaml file params.yaml loaded successfully]\n",
      "[2024-01-03 19:28:06,208: INFO: common: created directory at: artifacts]\n",
      "[2024-01-03 19:28:06,208: INFO: common: created directory at: artifacts/model_trainer]\n",
      "[2024-01-03 19:28:06,208: INFO: 4235139736: Data has been fetched successfully]\n",
      "[2024-01-03 19:28:06,214: INFO: 4235139736: Data has been scaled successfully]\n"
     ]
    },
    {
     "name": "stdout",
     "output_type": "stream",
     "text": [
      "---------------------------------------------0.19531977130700717--------------------------------\n",
      "{'Random Forest': 0.19531977130700717}\n",
      "[2024-01-03 19:28:23,583: INFO: 4235139736: Model Random Forest has been trained successfully]\n",
      "[2024-01-03 19:28:23,599: INFO: 4235139736: Model Decision Tree has been trained successfully]\n",
      "[2024-01-03 19:28:23,713: INFO: 4235139736: Model Gradient Boosting has been trained successfully]\n",
      "[2024-01-03 19:28:25,737: INFO: 4235139736: Model CatBoosting Regressor has been trained successfully]\n",
      "[2024-01-03 19:28:25,847: INFO: 4235139736: Model AdaBoost Regressor has been trained successfully]\n",
      "[2024-01-03 19:28:25,850: INFO: 4235139736: Model Name: Decision Tree has been saved successfully with accuracy: 0.9382022471910112]\n",
      "[2024-01-03 19:28:25,850: INFO: 4235139736: Model Training Complete]\n"
     ]
    }
   ],
   "source": [
    "try:\n",
    "    config = ConfigurationManager()\n",
    "    model_trainer_config = config.get_model_trainer_config()\n",
    "    model_trainer = ModelTrainer(config= model_trainer_config)\n",
    "    model_trainer.initiate_model_training()\n",
    "\n",
    "except Exception as e:\n",
    "    raise e"
   ]
  },
  {
   "cell_type": "code",
   "execution_count": null,
   "metadata": {},
   "outputs": [],
   "source": [
    "a = {\n",
    "    'a':1,\n",
    "    'b':2,\n",
    "    'c':3,\n",
    "    'd':4,\n",
    "}\n",
    "b = {\n",
    "    'a':5,\n",
    "    'b':6,\n",
    "    'c':7,\n",
    "    'd':8,\n",
    "}\n",
    "\n"
   ]
  }
 ],
 "metadata": {
  "kernelspec": {
   "display_name": "titanic",
   "language": "python",
   "name": "python3"
  },
  "language_info": {
   "codemirror_mode": {
    "name": "ipython",
    "version": 3
   },
   "file_extension": ".py",
   "mimetype": "text/x-python",
   "name": "python",
   "nbconvert_exporter": "python",
   "pygments_lexer": "ipython3",
   "version": "3.9.0"
  }
 },
 "nbformat": 4,
 "nbformat_minor": 2
}
